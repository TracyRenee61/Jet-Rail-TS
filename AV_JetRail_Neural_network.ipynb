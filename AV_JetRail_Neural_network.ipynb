{
  "nbformat": 4,
  "nbformat_minor": 0,
  "metadata": {
    "colab": {
      "name": "AV JetRail Neural network.ipynb",
      "provenance": []
    },
    "kernelspec": {
      "name": "python3",
      "display_name": "Python 3"
    }
  },
  "cells": [
    {
      "cell_type": "markdown",
      "metadata": {
        "id": "lU8761DtOHTg"
      },
      "source": [
        "Welcome DataHacker!\n",
        " \n",
        "Congratulations on your new job! This time you are helping out Unicorn Investors with your data hacking skills. They are considering making an investment in a new form of transportation - JetRail. JetRail uses Jet propulsion technology to run rails and move people at a high speed! While JetRail has mastered the technology and they hold the patent for their product, the investment would only make sense, if they can get more than 1 Million monthly users with in next 18 months.\n",
        " \n",
        "You need to help Unicorn ventures with the decision. They usually invest in B2C start-ups less than 4 years old looking for pre-series A funding. In order to help Unicorn Ventures in their decision, you need to forecast the traffic on JetRail for the next 7 months. You are provided with traffic data of JetRail since inception in the test file.\n",
        "\n",
        "Evaluation Metric:\n",
        "Root Mean Squre Error (RMSE) is the evaluation metric for this contest"
      ]
    },
    {
      "cell_type": "markdown",
      "metadata": {
        "id": "zyFBmCN5P7Ln"
      },
      "source": [
        "Import libraries"
      ]
    },
    {
      "cell_type": "code",
      "metadata": {
        "id": "BkqYNBLMNTeu"
      },
      "source": [
        "#import libraries\n",
        "import numpy as np\n",
        "import pandas as pd"
      ],
      "execution_count": 1086,
      "outputs": []
    },
    {
      "cell_type": "markdown",
      "metadata": {
        "id": "WTFRr1KzP_-5"
      },
      "source": [
        "Load and read datasets"
      ]
    },
    {
      "cell_type": "code",
      "metadata": {
        "id": "HlFBgMMOOUOs"
      },
      "source": [
        "# load datasets\n",
        "train = pd.read_csv('https://raw.githubusercontent.com/TracyRenee61/Jet-Rail-TS/main/Train_SU63ISt%20-%20Train_SU63ISt.csv')\n",
        "test = pd.read_csv('https://raw.githubusercontent.com/TracyRenee61/Jet-Rail-TS/main/Test_0qrQsBZ%20-%20Test_0qrQsBZ.csv')\n",
        "sample = pd.read_csv('https://raw.githubusercontent.com/TracyRenee61/Jet-Rail-TS/main/sample_submission_LSeus50%20-%20sample_submission_LSeus50.csv')"
      ],
      "execution_count": 1087,
      "outputs": []
    },
    {
      "cell_type": "code",
      "metadata": {
        "id": "tsFT8shwPkXj",
        "colab": {
          "base_uri": "https://localhost:8080/",
          "height": 399
        },
        "outputId": "82a46f90-5a81-4666-b8f4-6516f4469d53"
      },
      "source": [
        "train"
      ],
      "execution_count": 1088,
      "outputs": [
        {
          "output_type": "execute_result",
          "data": {
            "text/html": [
              "<div>\n",
              "<style scoped>\n",
              "    .dataframe tbody tr th:only-of-type {\n",
              "        vertical-align: middle;\n",
              "    }\n",
              "\n",
              "    .dataframe tbody tr th {\n",
              "        vertical-align: top;\n",
              "    }\n",
              "\n",
              "    .dataframe thead th {\n",
              "        text-align: right;\n",
              "    }\n",
              "</style>\n",
              "<table border=\"1\" class=\"dataframe\">\n",
              "  <thead>\n",
              "    <tr style=\"text-align: right;\">\n",
              "      <th></th>\n",
              "      <th>ID</th>\n",
              "      <th>Datetime</th>\n",
              "      <th>Count</th>\n",
              "    </tr>\n",
              "  </thead>\n",
              "  <tbody>\n",
              "    <tr>\n",
              "      <th>0</th>\n",
              "      <td>0</td>\n",
              "      <td>25-08-2012 00:00</td>\n",
              "      <td>8</td>\n",
              "    </tr>\n",
              "    <tr>\n",
              "      <th>1</th>\n",
              "      <td>1</td>\n",
              "      <td>25-08-2012 01:00</td>\n",
              "      <td>2</td>\n",
              "    </tr>\n",
              "    <tr>\n",
              "      <th>2</th>\n",
              "      <td>2</td>\n",
              "      <td>25-08-2012 02:00</td>\n",
              "      <td>6</td>\n",
              "    </tr>\n",
              "    <tr>\n",
              "      <th>3</th>\n",
              "      <td>3</td>\n",
              "      <td>25-08-2012 03:00</td>\n",
              "      <td>2</td>\n",
              "    </tr>\n",
              "    <tr>\n",
              "      <th>4</th>\n",
              "      <td>4</td>\n",
              "      <td>25-08-2012 04:00</td>\n",
              "      <td>2</td>\n",
              "    </tr>\n",
              "    <tr>\n",
              "      <th>...</th>\n",
              "      <td>...</td>\n",
              "      <td>...</td>\n",
              "      <td>...</td>\n",
              "    </tr>\n",
              "    <tr>\n",
              "      <th>18283</th>\n",
              "      <td>18283</td>\n",
              "      <td>25-09-2014 19:00</td>\n",
              "      <td>868</td>\n",
              "    </tr>\n",
              "    <tr>\n",
              "      <th>18284</th>\n",
              "      <td>18284</td>\n",
              "      <td>25-09-2014 20:00</td>\n",
              "      <td>732</td>\n",
              "    </tr>\n",
              "    <tr>\n",
              "      <th>18285</th>\n",
              "      <td>18285</td>\n",
              "      <td>25-09-2014 21:00</td>\n",
              "      <td>702</td>\n",
              "    </tr>\n",
              "    <tr>\n",
              "      <th>18286</th>\n",
              "      <td>18286</td>\n",
              "      <td>25-09-2014 22:00</td>\n",
              "      <td>580</td>\n",
              "    </tr>\n",
              "    <tr>\n",
              "      <th>18287</th>\n",
              "      <td>18287</td>\n",
              "      <td>25-09-2014 23:00</td>\n",
              "      <td>534</td>\n",
              "    </tr>\n",
              "  </tbody>\n",
              "</table>\n",
              "<p>18288 rows × 3 columns</p>\n",
              "</div>"
            ],
            "text/plain": [
              "          ID          Datetime  Count\n",
              "0          0  25-08-2012 00:00      8\n",
              "1          1  25-08-2012 01:00      2\n",
              "2          2  25-08-2012 02:00      6\n",
              "3          3  25-08-2012 03:00      2\n",
              "4          4  25-08-2012 04:00      2\n",
              "...      ...               ...    ...\n",
              "18283  18283  25-09-2014 19:00    868\n",
              "18284  18284  25-09-2014 20:00    732\n",
              "18285  18285  25-09-2014 21:00    702\n",
              "18286  18286  25-09-2014 22:00    580\n",
              "18287  18287  25-09-2014 23:00    534\n",
              "\n",
              "[18288 rows x 3 columns]"
            ]
          },
          "metadata": {
            "tags": []
          },
          "execution_count": 1088
        }
      ]
    },
    {
      "cell_type": "code",
      "metadata": {
        "id": "ea5mqf0kPs9G",
        "colab": {
          "base_uri": "https://localhost:8080/",
          "height": 399
        },
        "outputId": "94d38dda-0593-4083-de1c-2038d87b3f37"
      },
      "source": [
        "test"
      ],
      "execution_count": 1089,
      "outputs": [
        {
          "output_type": "execute_result",
          "data": {
            "text/html": [
              "<div>\n",
              "<style scoped>\n",
              "    .dataframe tbody tr th:only-of-type {\n",
              "        vertical-align: middle;\n",
              "    }\n",
              "\n",
              "    .dataframe tbody tr th {\n",
              "        vertical-align: top;\n",
              "    }\n",
              "\n",
              "    .dataframe thead th {\n",
              "        text-align: right;\n",
              "    }\n",
              "</style>\n",
              "<table border=\"1\" class=\"dataframe\">\n",
              "  <thead>\n",
              "    <tr style=\"text-align: right;\">\n",
              "      <th></th>\n",
              "      <th>ID</th>\n",
              "      <th>Datetime</th>\n",
              "    </tr>\n",
              "  </thead>\n",
              "  <tbody>\n",
              "    <tr>\n",
              "      <th>0</th>\n",
              "      <td>18288</td>\n",
              "      <td>26-09-2014 00:00</td>\n",
              "    </tr>\n",
              "    <tr>\n",
              "      <th>1</th>\n",
              "      <td>18289</td>\n",
              "      <td>26-09-2014 01:00</td>\n",
              "    </tr>\n",
              "    <tr>\n",
              "      <th>2</th>\n",
              "      <td>18290</td>\n",
              "      <td>26-09-2014 02:00</td>\n",
              "    </tr>\n",
              "    <tr>\n",
              "      <th>3</th>\n",
              "      <td>18291</td>\n",
              "      <td>26-09-2014 03:00</td>\n",
              "    </tr>\n",
              "    <tr>\n",
              "      <th>4</th>\n",
              "      <td>18292</td>\n",
              "      <td>26-09-2014 04:00</td>\n",
              "    </tr>\n",
              "    <tr>\n",
              "      <th>...</th>\n",
              "      <td>...</td>\n",
              "      <td>...</td>\n",
              "    </tr>\n",
              "    <tr>\n",
              "      <th>5107</th>\n",
              "      <td>23395</td>\n",
              "      <td>26-04-2015 19:00</td>\n",
              "    </tr>\n",
              "    <tr>\n",
              "      <th>5108</th>\n",
              "      <td>23396</td>\n",
              "      <td>26-04-2015 20:00</td>\n",
              "    </tr>\n",
              "    <tr>\n",
              "      <th>5109</th>\n",
              "      <td>23397</td>\n",
              "      <td>26-04-2015 21:00</td>\n",
              "    </tr>\n",
              "    <tr>\n",
              "      <th>5110</th>\n",
              "      <td>23398</td>\n",
              "      <td>26-04-2015 22:00</td>\n",
              "    </tr>\n",
              "    <tr>\n",
              "      <th>5111</th>\n",
              "      <td>23399</td>\n",
              "      <td>26-04-2015 23:00</td>\n",
              "    </tr>\n",
              "  </tbody>\n",
              "</table>\n",
              "<p>5112 rows × 2 columns</p>\n",
              "</div>"
            ],
            "text/plain": [
              "         ID          Datetime\n",
              "0     18288  26-09-2014 00:00\n",
              "1     18289  26-09-2014 01:00\n",
              "2     18290  26-09-2014 02:00\n",
              "3     18291  26-09-2014 03:00\n",
              "4     18292  26-09-2014 04:00\n",
              "...     ...               ...\n",
              "5107  23395  26-04-2015 19:00\n",
              "5108  23396  26-04-2015 20:00\n",
              "5109  23397  26-04-2015 21:00\n",
              "5110  23398  26-04-2015 22:00\n",
              "5111  23399  26-04-2015 23:00\n",
              "\n",
              "[5112 rows x 2 columns]"
            ]
          },
          "metadata": {
            "tags": []
          },
          "execution_count": 1089
        }
      ]
    },
    {
      "cell_type": "code",
      "metadata": {
        "id": "6LwS8kTCP0UG",
        "colab": {
          "base_uri": "https://localhost:8080/",
          "height": 399
        },
        "outputId": "503f5146-93b2-4aec-b075-53f95aae34e3"
      },
      "source": [
        "sample"
      ],
      "execution_count": 1090,
      "outputs": [
        {
          "output_type": "execute_result",
          "data": {
            "text/html": [
              "<div>\n",
              "<style scoped>\n",
              "    .dataframe tbody tr th:only-of-type {\n",
              "        vertical-align: middle;\n",
              "    }\n",
              "\n",
              "    .dataframe tbody tr th {\n",
              "        vertical-align: top;\n",
              "    }\n",
              "\n",
              "    .dataframe thead th {\n",
              "        text-align: right;\n",
              "    }\n",
              "</style>\n",
              "<table border=\"1\" class=\"dataframe\">\n",
              "  <thead>\n",
              "    <tr style=\"text-align: right;\">\n",
              "      <th></th>\n",
              "      <th>ID</th>\n",
              "      <th>Count</th>\n",
              "    </tr>\n",
              "  </thead>\n",
              "  <tbody>\n",
              "    <tr>\n",
              "      <th>0</th>\n",
              "      <td>18288</td>\n",
              "      <td>0</td>\n",
              "    </tr>\n",
              "    <tr>\n",
              "      <th>1</th>\n",
              "      <td>18289</td>\n",
              "      <td>0</td>\n",
              "    </tr>\n",
              "    <tr>\n",
              "      <th>2</th>\n",
              "      <td>18290</td>\n",
              "      <td>0</td>\n",
              "    </tr>\n",
              "    <tr>\n",
              "      <th>3</th>\n",
              "      <td>18291</td>\n",
              "      <td>0</td>\n",
              "    </tr>\n",
              "    <tr>\n",
              "      <th>4</th>\n",
              "      <td>18292</td>\n",
              "      <td>0</td>\n",
              "    </tr>\n",
              "    <tr>\n",
              "      <th>...</th>\n",
              "      <td>...</td>\n",
              "      <td>...</td>\n",
              "    </tr>\n",
              "    <tr>\n",
              "      <th>5107</th>\n",
              "      <td>23395</td>\n",
              "      <td>0</td>\n",
              "    </tr>\n",
              "    <tr>\n",
              "      <th>5108</th>\n",
              "      <td>23396</td>\n",
              "      <td>0</td>\n",
              "    </tr>\n",
              "    <tr>\n",
              "      <th>5109</th>\n",
              "      <td>23397</td>\n",
              "      <td>0</td>\n",
              "    </tr>\n",
              "    <tr>\n",
              "      <th>5110</th>\n",
              "      <td>23398</td>\n",
              "      <td>0</td>\n",
              "    </tr>\n",
              "    <tr>\n",
              "      <th>5111</th>\n",
              "      <td>23399</td>\n",
              "      <td>0</td>\n",
              "    </tr>\n",
              "  </tbody>\n",
              "</table>\n",
              "<p>5112 rows × 2 columns</p>\n",
              "</div>"
            ],
            "text/plain": [
              "         ID  Count\n",
              "0     18288      0\n",
              "1     18289      0\n",
              "2     18290      0\n",
              "3     18291      0\n",
              "4     18292      0\n",
              "...     ...    ...\n",
              "5107  23395      0\n",
              "5108  23396      0\n",
              "5109  23397      0\n",
              "5110  23398      0\n",
              "5111  23399      0\n",
              "\n",
              "[5112 rows x 2 columns]"
            ]
          },
          "metadata": {
            "tags": []
          },
          "execution_count": 1090
        }
      ]
    },
    {
      "cell_type": "code",
      "metadata": {
        "id": "qfGSLEu-QaIr",
        "colab": {
          "base_uri": "https://localhost:8080/"
        },
        "outputId": "ca9173b9-64fc-4a88-b291-02d6bd32c602"
      },
      "source": [
        "train.shape"
      ],
      "execution_count": 1091,
      "outputs": [
        {
          "output_type": "execute_result",
          "data": {
            "text/plain": [
              "(18288, 3)"
            ]
          },
          "metadata": {
            "tags": []
          },
          "execution_count": 1091
        }
      ]
    },
    {
      "cell_type": "code",
      "metadata": {
        "colab": {
          "base_uri": "https://localhost:8080/"
        },
        "id": "5NeCBrTqRJ1I",
        "outputId": "f698fe39-3e39-46b0-e092-140e9f05455e"
      },
      "source": [
        "test.shape"
      ],
      "execution_count": 1092,
      "outputs": [
        {
          "output_type": "execute_result",
          "data": {
            "text/plain": [
              "(5112, 2)"
            ]
          },
          "metadata": {
            "tags": []
          },
          "execution_count": 1092
        }
      ]
    },
    {
      "cell_type": "code",
      "metadata": {
        "id": "qvlJoRuvQ6W4",
        "colab": {
          "base_uri": "https://localhost:8080/"
        },
        "outputId": "54d2e22d-8892-4f5b-d9e8-27699d7c1e6f"
      },
      "source": [
        "train.info()"
      ],
      "execution_count": 1093,
      "outputs": [
        {
          "output_type": "stream",
          "text": [
            "<class 'pandas.core.frame.DataFrame'>\n",
            "RangeIndex: 18288 entries, 0 to 18287\n",
            "Data columns (total 3 columns):\n",
            " #   Column    Non-Null Count  Dtype \n",
            "---  ------    --------------  ----- \n",
            " 0   ID        18288 non-null  int64 \n",
            " 1   Datetime  18288 non-null  object\n",
            " 2   Count     18288 non-null  int64 \n",
            "dtypes: int64(2), object(1)\n",
            "memory usage: 428.8+ KB\n"
          ],
          "name": "stdout"
        }
      ]
    },
    {
      "cell_type": "code",
      "metadata": {
        "colab": {
          "base_uri": "https://localhost:8080/"
        },
        "id": "Vhwp8hRfQ4EP",
        "outputId": "85329a0b-4962-4fba-8097-2caf888a53a0"
      },
      "source": [
        "test.info()"
      ],
      "execution_count": 1094,
      "outputs": [
        {
          "output_type": "stream",
          "text": [
            "<class 'pandas.core.frame.DataFrame'>\n",
            "RangeIndex: 5112 entries, 0 to 5111\n",
            "Data columns (total 2 columns):\n",
            " #   Column    Non-Null Count  Dtype \n",
            "---  ------    --------------  ----- \n",
            " 0   ID        5112 non-null   int64 \n",
            " 1   Datetime  5112 non-null   object\n",
            "dtypes: int64(1), object(1)\n",
            "memory usage: 80.0+ KB\n"
          ],
          "name": "stdout"
        }
      ]
    },
    {
      "cell_type": "markdown",
      "metadata": {
        "id": "7U9Es9axTsnF"
      },
      "source": [
        "Check null values"
      ]
    },
    {
      "cell_type": "code",
      "metadata": {
        "colab": {
          "base_uri": "https://localhost:8080/"
        },
        "id": "JPdYNkcHTvGe",
        "outputId": "4c6404aa-d85c-47c2-97c3-fbe00ff9e721"
      },
      "source": [
        "train.isnull().sum()"
      ],
      "execution_count": 1095,
      "outputs": [
        {
          "output_type": "execute_result",
          "data": {
            "text/plain": [
              "ID          0\n",
              "Datetime    0\n",
              "Count       0\n",
              "dtype: int64"
            ]
          },
          "metadata": {
            "tags": []
          },
          "execution_count": 1095
        }
      ]
    },
    {
      "cell_type": "code",
      "metadata": {
        "colab": {
          "base_uri": "https://localhost:8080/"
        },
        "id": "rkAVW5dATyqN",
        "outputId": "9f8978f8-5c3f-4b71-8c5f-9a921650b671"
      },
      "source": [
        "test.isnull().sum()"
      ],
      "execution_count": 1096,
      "outputs": [
        {
          "output_type": "execute_result",
          "data": {
            "text/plain": [
              "ID          0\n",
              "Datetime    0\n",
              "dtype: int64"
            ]
          },
          "metadata": {
            "tags": []
          },
          "execution_count": 1096
        }
      ]
    },
    {
      "cell_type": "markdown",
      "metadata": {
        "id": "CfzRqAEsT88O"
      },
      "source": [
        "Extract date and time"
      ]
    },
    {
      "cell_type": "code",
      "metadata": {
        "id": "UUuBZI8vRM_p"
      },
      "source": [
        "#extract date and time \n",
        "import datetime \n",
        "train['Datetime'] = pd.to_datetime(train.Datetime,format='%d-%m-%Y %H:%M',infer_datetime_format=True) \n",
        "test['Datetime'] = pd.to_datetime(test.Datetime,format='%d-%m-%Y %H:%M', infer_datetime_format=True) "
      ],
      "execution_count": 1097,
      "outputs": []
    },
    {
      "cell_type": "code",
      "metadata": {
        "id": "9Lb83PxNRlsl",
        "colab": {
          "base_uri": "https://localhost:8080/"
        },
        "outputId": "bb4d3d18-785a-4da3-ea56-4ec1f2221f8a"
      },
      "source": [
        "train.info()"
      ],
      "execution_count": 1098,
      "outputs": [
        {
          "output_type": "stream",
          "text": [
            "<class 'pandas.core.frame.DataFrame'>\n",
            "RangeIndex: 18288 entries, 0 to 18287\n",
            "Data columns (total 3 columns):\n",
            " #   Column    Non-Null Count  Dtype         \n",
            "---  ------    --------------  -----         \n",
            " 0   ID        18288 non-null  int64         \n",
            " 1   Datetime  18288 non-null  datetime64[ns]\n",
            " 2   Count     18288 non-null  int64         \n",
            "dtypes: datetime64[ns](1), int64(2)\n",
            "memory usage: 428.8 KB\n"
          ],
          "name": "stdout"
        }
      ]
    },
    {
      "cell_type": "code",
      "metadata": {
        "id": "XpyJnyyzRoDA",
        "colab": {
          "base_uri": "https://localhost:8080/"
        },
        "outputId": "7cbaa3ec-f631-432c-f7f7-b345aa82d633"
      },
      "source": [
        "test.info()"
      ],
      "execution_count": 1099,
      "outputs": [
        {
          "output_type": "stream",
          "text": [
            "<class 'pandas.core.frame.DataFrame'>\n",
            "RangeIndex: 5112 entries, 0 to 5111\n",
            "Data columns (total 2 columns):\n",
            " #   Column    Non-Null Count  Dtype         \n",
            "---  ------    --------------  -----         \n",
            " 0   ID        5112 non-null   int64         \n",
            " 1   Datetime  5112 non-null   datetime64[ns]\n",
            "dtypes: datetime64[ns](1), int64(1)\n",
            "memory usage: 80.0 KB\n"
          ],
          "name": "stdout"
        }
      ]
    },
    {
      "cell_type": "markdown",
      "metadata": {
        "id": "f75jOO69UyVh"
      },
      "source": [
        "Ordinal encode date and time"
      ]
    },
    {
      "cell_type": "code",
      "metadata": {
        "colab": {
          "base_uri": "https://localhost:8080/",
          "height": 399
        },
        "id": "hmyeyngcU2Bu",
        "outputId": "abcde21b-91d2-4084-ffd1-87c0830943f6"
      },
      "source": [
        "train['date_ordinal'] = train['Datetime'].apply(lambda x: x.toordinal())\r\n",
        "train"
      ],
      "execution_count": 1100,
      "outputs": [
        {
          "output_type": "execute_result",
          "data": {
            "text/html": [
              "<div>\n",
              "<style scoped>\n",
              "    .dataframe tbody tr th:only-of-type {\n",
              "        vertical-align: middle;\n",
              "    }\n",
              "\n",
              "    .dataframe tbody tr th {\n",
              "        vertical-align: top;\n",
              "    }\n",
              "\n",
              "    .dataframe thead th {\n",
              "        text-align: right;\n",
              "    }\n",
              "</style>\n",
              "<table border=\"1\" class=\"dataframe\">\n",
              "  <thead>\n",
              "    <tr style=\"text-align: right;\">\n",
              "      <th></th>\n",
              "      <th>ID</th>\n",
              "      <th>Datetime</th>\n",
              "      <th>Count</th>\n",
              "      <th>date_ordinal</th>\n",
              "    </tr>\n",
              "  </thead>\n",
              "  <tbody>\n",
              "    <tr>\n",
              "      <th>0</th>\n",
              "      <td>0</td>\n",
              "      <td>2012-08-25 00:00:00</td>\n",
              "      <td>8</td>\n",
              "      <td>734740</td>\n",
              "    </tr>\n",
              "    <tr>\n",
              "      <th>1</th>\n",
              "      <td>1</td>\n",
              "      <td>2012-08-25 01:00:00</td>\n",
              "      <td>2</td>\n",
              "      <td>734740</td>\n",
              "    </tr>\n",
              "    <tr>\n",
              "      <th>2</th>\n",
              "      <td>2</td>\n",
              "      <td>2012-08-25 02:00:00</td>\n",
              "      <td>6</td>\n",
              "      <td>734740</td>\n",
              "    </tr>\n",
              "    <tr>\n",
              "      <th>3</th>\n",
              "      <td>3</td>\n",
              "      <td>2012-08-25 03:00:00</td>\n",
              "      <td>2</td>\n",
              "      <td>734740</td>\n",
              "    </tr>\n",
              "    <tr>\n",
              "      <th>4</th>\n",
              "      <td>4</td>\n",
              "      <td>2012-08-25 04:00:00</td>\n",
              "      <td>2</td>\n",
              "      <td>734740</td>\n",
              "    </tr>\n",
              "    <tr>\n",
              "      <th>...</th>\n",
              "      <td>...</td>\n",
              "      <td>...</td>\n",
              "      <td>...</td>\n",
              "      <td>...</td>\n",
              "    </tr>\n",
              "    <tr>\n",
              "      <th>18283</th>\n",
              "      <td>18283</td>\n",
              "      <td>2014-09-25 19:00:00</td>\n",
              "      <td>868</td>\n",
              "      <td>735501</td>\n",
              "    </tr>\n",
              "    <tr>\n",
              "      <th>18284</th>\n",
              "      <td>18284</td>\n",
              "      <td>2014-09-25 20:00:00</td>\n",
              "      <td>732</td>\n",
              "      <td>735501</td>\n",
              "    </tr>\n",
              "    <tr>\n",
              "      <th>18285</th>\n",
              "      <td>18285</td>\n",
              "      <td>2014-09-25 21:00:00</td>\n",
              "      <td>702</td>\n",
              "      <td>735501</td>\n",
              "    </tr>\n",
              "    <tr>\n",
              "      <th>18286</th>\n",
              "      <td>18286</td>\n",
              "      <td>2014-09-25 22:00:00</td>\n",
              "      <td>580</td>\n",
              "      <td>735501</td>\n",
              "    </tr>\n",
              "    <tr>\n",
              "      <th>18287</th>\n",
              "      <td>18287</td>\n",
              "      <td>2014-09-25 23:00:00</td>\n",
              "      <td>534</td>\n",
              "      <td>735501</td>\n",
              "    </tr>\n",
              "  </tbody>\n",
              "</table>\n",
              "<p>18288 rows × 4 columns</p>\n",
              "</div>"
            ],
            "text/plain": [
              "          ID            Datetime  Count  date_ordinal\n",
              "0          0 2012-08-25 00:00:00      8        734740\n",
              "1          1 2012-08-25 01:00:00      2        734740\n",
              "2          2 2012-08-25 02:00:00      6        734740\n",
              "3          3 2012-08-25 03:00:00      2        734740\n",
              "4          4 2012-08-25 04:00:00      2        734740\n",
              "...      ...                 ...    ...           ...\n",
              "18283  18283 2014-09-25 19:00:00    868        735501\n",
              "18284  18284 2014-09-25 20:00:00    732        735501\n",
              "18285  18285 2014-09-25 21:00:00    702        735501\n",
              "18286  18286 2014-09-25 22:00:00    580        735501\n",
              "18287  18287 2014-09-25 23:00:00    534        735501\n",
              "\n",
              "[18288 rows x 4 columns]"
            ]
          },
          "metadata": {
            "tags": []
          },
          "execution_count": 1100
        }
      ]
    },
    {
      "cell_type": "code",
      "metadata": {
        "colab": {
          "base_uri": "https://localhost:8080/",
          "height": 399
        },
        "id": "ue2jo1PUVB8g",
        "outputId": "a32edac7-cf83-4be8-d9cf-db9194a77db0"
      },
      "source": [
        "test['date_ordinal'] = test['Datetime'].apply(lambda x: x.toordinal())\r\n",
        "test"
      ],
      "execution_count": 1101,
      "outputs": [
        {
          "output_type": "execute_result",
          "data": {
            "text/html": [
              "<div>\n",
              "<style scoped>\n",
              "    .dataframe tbody tr th:only-of-type {\n",
              "        vertical-align: middle;\n",
              "    }\n",
              "\n",
              "    .dataframe tbody tr th {\n",
              "        vertical-align: top;\n",
              "    }\n",
              "\n",
              "    .dataframe thead th {\n",
              "        text-align: right;\n",
              "    }\n",
              "</style>\n",
              "<table border=\"1\" class=\"dataframe\">\n",
              "  <thead>\n",
              "    <tr style=\"text-align: right;\">\n",
              "      <th></th>\n",
              "      <th>ID</th>\n",
              "      <th>Datetime</th>\n",
              "      <th>date_ordinal</th>\n",
              "    </tr>\n",
              "  </thead>\n",
              "  <tbody>\n",
              "    <tr>\n",
              "      <th>0</th>\n",
              "      <td>18288</td>\n",
              "      <td>2014-09-26 00:00:00</td>\n",
              "      <td>735502</td>\n",
              "    </tr>\n",
              "    <tr>\n",
              "      <th>1</th>\n",
              "      <td>18289</td>\n",
              "      <td>2014-09-26 01:00:00</td>\n",
              "      <td>735502</td>\n",
              "    </tr>\n",
              "    <tr>\n",
              "      <th>2</th>\n",
              "      <td>18290</td>\n",
              "      <td>2014-09-26 02:00:00</td>\n",
              "      <td>735502</td>\n",
              "    </tr>\n",
              "    <tr>\n",
              "      <th>3</th>\n",
              "      <td>18291</td>\n",
              "      <td>2014-09-26 03:00:00</td>\n",
              "      <td>735502</td>\n",
              "    </tr>\n",
              "    <tr>\n",
              "      <th>4</th>\n",
              "      <td>18292</td>\n",
              "      <td>2014-09-26 04:00:00</td>\n",
              "      <td>735502</td>\n",
              "    </tr>\n",
              "    <tr>\n",
              "      <th>...</th>\n",
              "      <td>...</td>\n",
              "      <td>...</td>\n",
              "      <td>...</td>\n",
              "    </tr>\n",
              "    <tr>\n",
              "      <th>5107</th>\n",
              "      <td>23395</td>\n",
              "      <td>2015-04-26 19:00:00</td>\n",
              "      <td>735714</td>\n",
              "    </tr>\n",
              "    <tr>\n",
              "      <th>5108</th>\n",
              "      <td>23396</td>\n",
              "      <td>2015-04-26 20:00:00</td>\n",
              "      <td>735714</td>\n",
              "    </tr>\n",
              "    <tr>\n",
              "      <th>5109</th>\n",
              "      <td>23397</td>\n",
              "      <td>2015-04-26 21:00:00</td>\n",
              "      <td>735714</td>\n",
              "    </tr>\n",
              "    <tr>\n",
              "      <th>5110</th>\n",
              "      <td>23398</td>\n",
              "      <td>2015-04-26 22:00:00</td>\n",
              "      <td>735714</td>\n",
              "    </tr>\n",
              "    <tr>\n",
              "      <th>5111</th>\n",
              "      <td>23399</td>\n",
              "      <td>2015-04-26 23:00:00</td>\n",
              "      <td>735714</td>\n",
              "    </tr>\n",
              "  </tbody>\n",
              "</table>\n",
              "<p>5112 rows × 3 columns</p>\n",
              "</div>"
            ],
            "text/plain": [
              "         ID            Datetime  date_ordinal\n",
              "0     18288 2014-09-26 00:00:00        735502\n",
              "1     18289 2014-09-26 01:00:00        735502\n",
              "2     18290 2014-09-26 02:00:00        735502\n",
              "3     18291 2014-09-26 03:00:00        735502\n",
              "4     18292 2014-09-26 04:00:00        735502\n",
              "...     ...                 ...           ...\n",
              "5107  23395 2015-04-26 19:00:00        735714\n",
              "5108  23396 2015-04-26 20:00:00        735714\n",
              "5109  23397 2015-04-26 21:00:00        735714\n",
              "5110  23398 2015-04-26 22:00:00        735714\n",
              "5111  23399 2015-04-26 23:00:00        735714\n",
              "\n",
              "[5112 rows x 3 columns]"
            ]
          },
          "metadata": {
            "tags": []
          },
          "execution_count": 1101
        }
      ]
    },
    {
      "cell_type": "markdown",
      "metadata": {
        "id": "1ox6Pv6yawNL"
      },
      "source": [
        "Extract hour from datetime"
      ]
    },
    {
      "cell_type": "code",
      "metadata": {
        "colab": {
          "base_uri": "https://localhost:8080/",
          "height": 399
        },
        "id": "JW7VE4Jta0bV",
        "outputId": "5dc8abe7-d5d4-48a8-f186-629daf16ea84"
      },
      "source": [
        "from datetime import datetime as dt\r\n",
        "train['hour'] = train['Datetime'].dt.hour\r\n",
        "train.hour = train.hour / 24\r\n",
        "train['date_hour'] = train.date_ordinal + train.hour\r\n",
        "train"
      ],
      "execution_count": 1102,
      "outputs": [
        {
          "output_type": "execute_result",
          "data": {
            "text/html": [
              "<div>\n",
              "<style scoped>\n",
              "    .dataframe tbody tr th:only-of-type {\n",
              "        vertical-align: middle;\n",
              "    }\n",
              "\n",
              "    .dataframe tbody tr th {\n",
              "        vertical-align: top;\n",
              "    }\n",
              "\n",
              "    .dataframe thead th {\n",
              "        text-align: right;\n",
              "    }\n",
              "</style>\n",
              "<table border=\"1\" class=\"dataframe\">\n",
              "  <thead>\n",
              "    <tr style=\"text-align: right;\">\n",
              "      <th></th>\n",
              "      <th>ID</th>\n",
              "      <th>Datetime</th>\n",
              "      <th>Count</th>\n",
              "      <th>date_ordinal</th>\n",
              "      <th>hour</th>\n",
              "      <th>date_hour</th>\n",
              "    </tr>\n",
              "  </thead>\n",
              "  <tbody>\n",
              "    <tr>\n",
              "      <th>0</th>\n",
              "      <td>0</td>\n",
              "      <td>2012-08-25 00:00:00</td>\n",
              "      <td>8</td>\n",
              "      <td>734740</td>\n",
              "      <td>0.000000</td>\n",
              "      <td>734740.000000</td>\n",
              "    </tr>\n",
              "    <tr>\n",
              "      <th>1</th>\n",
              "      <td>1</td>\n",
              "      <td>2012-08-25 01:00:00</td>\n",
              "      <td>2</td>\n",
              "      <td>734740</td>\n",
              "      <td>0.041667</td>\n",
              "      <td>734740.041667</td>\n",
              "    </tr>\n",
              "    <tr>\n",
              "      <th>2</th>\n",
              "      <td>2</td>\n",
              "      <td>2012-08-25 02:00:00</td>\n",
              "      <td>6</td>\n",
              "      <td>734740</td>\n",
              "      <td>0.083333</td>\n",
              "      <td>734740.083333</td>\n",
              "    </tr>\n",
              "    <tr>\n",
              "      <th>3</th>\n",
              "      <td>3</td>\n",
              "      <td>2012-08-25 03:00:00</td>\n",
              "      <td>2</td>\n",
              "      <td>734740</td>\n",
              "      <td>0.125000</td>\n",
              "      <td>734740.125000</td>\n",
              "    </tr>\n",
              "    <tr>\n",
              "      <th>4</th>\n",
              "      <td>4</td>\n",
              "      <td>2012-08-25 04:00:00</td>\n",
              "      <td>2</td>\n",
              "      <td>734740</td>\n",
              "      <td>0.166667</td>\n",
              "      <td>734740.166667</td>\n",
              "    </tr>\n",
              "    <tr>\n",
              "      <th>...</th>\n",
              "      <td>...</td>\n",
              "      <td>...</td>\n",
              "      <td>...</td>\n",
              "      <td>...</td>\n",
              "      <td>...</td>\n",
              "      <td>...</td>\n",
              "    </tr>\n",
              "    <tr>\n",
              "      <th>18283</th>\n",
              "      <td>18283</td>\n",
              "      <td>2014-09-25 19:00:00</td>\n",
              "      <td>868</td>\n",
              "      <td>735501</td>\n",
              "      <td>0.791667</td>\n",
              "      <td>735501.791667</td>\n",
              "    </tr>\n",
              "    <tr>\n",
              "      <th>18284</th>\n",
              "      <td>18284</td>\n",
              "      <td>2014-09-25 20:00:00</td>\n",
              "      <td>732</td>\n",
              "      <td>735501</td>\n",
              "      <td>0.833333</td>\n",
              "      <td>735501.833333</td>\n",
              "    </tr>\n",
              "    <tr>\n",
              "      <th>18285</th>\n",
              "      <td>18285</td>\n",
              "      <td>2014-09-25 21:00:00</td>\n",
              "      <td>702</td>\n",
              "      <td>735501</td>\n",
              "      <td>0.875000</td>\n",
              "      <td>735501.875000</td>\n",
              "    </tr>\n",
              "    <tr>\n",
              "      <th>18286</th>\n",
              "      <td>18286</td>\n",
              "      <td>2014-09-25 22:00:00</td>\n",
              "      <td>580</td>\n",
              "      <td>735501</td>\n",
              "      <td>0.916667</td>\n",
              "      <td>735501.916667</td>\n",
              "    </tr>\n",
              "    <tr>\n",
              "      <th>18287</th>\n",
              "      <td>18287</td>\n",
              "      <td>2014-09-25 23:00:00</td>\n",
              "      <td>534</td>\n",
              "      <td>735501</td>\n",
              "      <td>0.958333</td>\n",
              "      <td>735501.958333</td>\n",
              "    </tr>\n",
              "  </tbody>\n",
              "</table>\n",
              "<p>18288 rows × 6 columns</p>\n",
              "</div>"
            ],
            "text/plain": [
              "          ID            Datetime  Count  date_ordinal      hour      date_hour\n",
              "0          0 2012-08-25 00:00:00      8        734740  0.000000  734740.000000\n",
              "1          1 2012-08-25 01:00:00      2        734740  0.041667  734740.041667\n",
              "2          2 2012-08-25 02:00:00      6        734740  0.083333  734740.083333\n",
              "3          3 2012-08-25 03:00:00      2        734740  0.125000  734740.125000\n",
              "4          4 2012-08-25 04:00:00      2        734740  0.166667  734740.166667\n",
              "...      ...                 ...    ...           ...       ...            ...\n",
              "18283  18283 2014-09-25 19:00:00    868        735501  0.791667  735501.791667\n",
              "18284  18284 2014-09-25 20:00:00    732        735501  0.833333  735501.833333\n",
              "18285  18285 2014-09-25 21:00:00    702        735501  0.875000  735501.875000\n",
              "18286  18286 2014-09-25 22:00:00    580        735501  0.916667  735501.916667\n",
              "18287  18287 2014-09-25 23:00:00    534        735501  0.958333  735501.958333\n",
              "\n",
              "[18288 rows x 6 columns]"
            ]
          },
          "metadata": {
            "tags": []
          },
          "execution_count": 1102
        }
      ]
    },
    {
      "cell_type": "code",
      "metadata": {
        "colab": {
          "base_uri": "https://localhost:8080/",
          "height": 399
        },
        "id": "rziqYm0ir1QB",
        "outputId": "92fa3025-bcff-4ab5-d410-49a6e670e9dc"
      },
      "source": [
        "from datetime import datetime as dt\r\n",
        "test['hour'] = test['Datetime'].dt.hour\r\n",
        "test.hour = test.hour / 24\r\n",
        "test['date_hour'] = test.date_ordinal + train.hour\r\n",
        "test"
      ],
      "execution_count": 1103,
      "outputs": [
        {
          "output_type": "execute_result",
          "data": {
            "text/html": [
              "<div>\n",
              "<style scoped>\n",
              "    .dataframe tbody tr th:only-of-type {\n",
              "        vertical-align: middle;\n",
              "    }\n",
              "\n",
              "    .dataframe tbody tr th {\n",
              "        vertical-align: top;\n",
              "    }\n",
              "\n",
              "    .dataframe thead th {\n",
              "        text-align: right;\n",
              "    }\n",
              "</style>\n",
              "<table border=\"1\" class=\"dataframe\">\n",
              "  <thead>\n",
              "    <tr style=\"text-align: right;\">\n",
              "      <th></th>\n",
              "      <th>ID</th>\n",
              "      <th>Datetime</th>\n",
              "      <th>date_ordinal</th>\n",
              "      <th>hour</th>\n",
              "      <th>date_hour</th>\n",
              "    </tr>\n",
              "  </thead>\n",
              "  <tbody>\n",
              "    <tr>\n",
              "      <th>0</th>\n",
              "      <td>18288</td>\n",
              "      <td>2014-09-26 00:00:00</td>\n",
              "      <td>735502</td>\n",
              "      <td>0.000000</td>\n",
              "      <td>735502.000000</td>\n",
              "    </tr>\n",
              "    <tr>\n",
              "      <th>1</th>\n",
              "      <td>18289</td>\n",
              "      <td>2014-09-26 01:00:00</td>\n",
              "      <td>735502</td>\n",
              "      <td>0.041667</td>\n",
              "      <td>735502.041667</td>\n",
              "    </tr>\n",
              "    <tr>\n",
              "      <th>2</th>\n",
              "      <td>18290</td>\n",
              "      <td>2014-09-26 02:00:00</td>\n",
              "      <td>735502</td>\n",
              "      <td>0.083333</td>\n",
              "      <td>735502.083333</td>\n",
              "    </tr>\n",
              "    <tr>\n",
              "      <th>3</th>\n",
              "      <td>18291</td>\n",
              "      <td>2014-09-26 03:00:00</td>\n",
              "      <td>735502</td>\n",
              "      <td>0.125000</td>\n",
              "      <td>735502.125000</td>\n",
              "    </tr>\n",
              "    <tr>\n",
              "      <th>4</th>\n",
              "      <td>18292</td>\n",
              "      <td>2014-09-26 04:00:00</td>\n",
              "      <td>735502</td>\n",
              "      <td>0.166667</td>\n",
              "      <td>735502.166667</td>\n",
              "    </tr>\n",
              "    <tr>\n",
              "      <th>...</th>\n",
              "      <td>...</td>\n",
              "      <td>...</td>\n",
              "      <td>...</td>\n",
              "      <td>...</td>\n",
              "      <td>...</td>\n",
              "    </tr>\n",
              "    <tr>\n",
              "      <th>5107</th>\n",
              "      <td>23395</td>\n",
              "      <td>2015-04-26 19:00:00</td>\n",
              "      <td>735714</td>\n",
              "      <td>0.791667</td>\n",
              "      <td>735714.791667</td>\n",
              "    </tr>\n",
              "    <tr>\n",
              "      <th>5108</th>\n",
              "      <td>23396</td>\n",
              "      <td>2015-04-26 20:00:00</td>\n",
              "      <td>735714</td>\n",
              "      <td>0.833333</td>\n",
              "      <td>735714.833333</td>\n",
              "    </tr>\n",
              "    <tr>\n",
              "      <th>5109</th>\n",
              "      <td>23397</td>\n",
              "      <td>2015-04-26 21:00:00</td>\n",
              "      <td>735714</td>\n",
              "      <td>0.875000</td>\n",
              "      <td>735714.875000</td>\n",
              "    </tr>\n",
              "    <tr>\n",
              "      <th>5110</th>\n",
              "      <td>23398</td>\n",
              "      <td>2015-04-26 22:00:00</td>\n",
              "      <td>735714</td>\n",
              "      <td>0.916667</td>\n",
              "      <td>735714.916667</td>\n",
              "    </tr>\n",
              "    <tr>\n",
              "      <th>5111</th>\n",
              "      <td>23399</td>\n",
              "      <td>2015-04-26 23:00:00</td>\n",
              "      <td>735714</td>\n",
              "      <td>0.958333</td>\n",
              "      <td>735714.958333</td>\n",
              "    </tr>\n",
              "  </tbody>\n",
              "</table>\n",
              "<p>5112 rows × 5 columns</p>\n",
              "</div>"
            ],
            "text/plain": [
              "         ID            Datetime  date_ordinal      hour      date_hour\n",
              "0     18288 2014-09-26 00:00:00        735502  0.000000  735502.000000\n",
              "1     18289 2014-09-26 01:00:00        735502  0.041667  735502.041667\n",
              "2     18290 2014-09-26 02:00:00        735502  0.083333  735502.083333\n",
              "3     18291 2014-09-26 03:00:00        735502  0.125000  735502.125000\n",
              "4     18292 2014-09-26 04:00:00        735502  0.166667  735502.166667\n",
              "...     ...                 ...           ...       ...            ...\n",
              "5107  23395 2015-04-26 19:00:00        735714  0.791667  735714.791667\n",
              "5108  23396 2015-04-26 20:00:00        735714  0.833333  735714.833333\n",
              "5109  23397 2015-04-26 21:00:00        735714  0.875000  735714.875000\n",
              "5110  23398 2015-04-26 22:00:00        735714  0.916667  735714.916667\n",
              "5111  23399 2015-04-26 23:00:00        735714  0.958333  735714.958333\n",
              "\n",
              "[5112 rows x 5 columns]"
            ]
          },
          "metadata": {
            "tags": []
          },
          "execution_count": 1103
        }
      ]
    },
    {
      "cell_type": "markdown",
      "metadata": {
        "id": "oeTz7w4Asd7Y"
      },
      "source": [
        "Graphics"
      ]
    },
    {
      "cell_type": "code",
      "metadata": {
        "colab": {
          "base_uri": "https://localhost:8080/",
          "height": 515
        },
        "id": "d6zeuiopsfw_",
        "outputId": "614225e4-1688-4645-8b6d-6168ad9fc105"
      },
      "source": [
        "# visualize the relationship between the features and the response using scatterplots\r\n",
        "import matplotlib.pyplot as plt\r\n",
        "\r\n",
        "fig, axs = plt.subplots(1, 1, sharey=True)\r\n",
        "train.plot(kind='scatter', x='Datetime', y='Count', ax=axs, figsize=(16, 8))"
      ],
      "execution_count": 1104,
      "outputs": [
        {
          "output_type": "execute_result",
          "data": {
            "text/plain": [
              "<matplotlib.axes._subplots.AxesSubplot at 0x7f65c6bb0780>"
            ]
          },
          "metadata": {
            "tags": []
          },
          "execution_count": 1104
        },
        {
          "output_type": "display_data",
          "data": {
            "image/png": "[encoded data removed]",
            "text/plain": [
              "<Figure size 1152x576 with 1 Axes>"
            ]
          },
          "metadata": {
            "tags": [],
            "needs_background": "light"
          }
        }
      ]
    },
    {
      "cell_type": "code",
      "metadata": {
        "id": "B8TnyHGFTVly",
        "colab": {
          "base_uri": "https://localhost:8080/",
          "height": 531
        },
        "outputId": "7982cfec-fc75-45f7-b5ee-4306dd92af09"
      },
      "source": [
        "# different way of plotting passenger count for training dataset. \n",
        "train.Count.plot(figsize=(16, 8))\n",
        "plt.title('Time Series') \n",
        "plt.xlabel(\"Time(year-month)\") \n",
        "plt.ylabel(\"Passenger count\") "
      ],
      "execution_count": 1105,
      "outputs": [
        {
          "output_type": "execute_result",
          "data": {
            "text/plain": [
              "Text(0, 0.5, 'Passenger count')"
            ]
          },
          "metadata": {
            "tags": []
          },
          "execution_count": 1105
        },
        {
          "output_type": "display_data",
          "data": {
            "image/png": "[encoded data removed]",
            "text/plain": [
              "<Figure size 1152x576 with 1 Axes>"
            ]
          },
          "metadata": {
            "tags": [],
            "needs_background": "light"
          }
        }
      ]
    },
    {
      "cell_type": "markdown",
      "metadata": {
        "id": "zXL_wmhgutSB"
      },
      "source": [
        "Define X and y"
      ]
    },
    {
      "cell_type": "code",
      "metadata": {
        "id": "bwVI1ytCux8c"
      },
      "source": [
        "y = train.Count\r\n",
        "X = train.date_hour\r\n",
        "X_test = test.date_hour"
      ],
      "execution_count": 1106,
      "outputs": []
    },
    {
      "cell_type": "markdown",
      "metadata": {
        "id": "4dnDnwoJLB0d"
      },
      "source": [
        "Reshape"
      ]
    },
    {
      "cell_type": "code",
      "metadata": {
        "id": "-YtseuoRLAjz"
      },
      "source": [
        "X = X.values.reshape(-1,1)\r\n",
        "X_test = X_test.values.reshape(-1,1)"
      ],
      "execution_count": 1107,
      "outputs": []
    },
    {
      "cell_type": "markdown",
      "metadata": {
        "id": "Tn4oL8-VvJYt"
      },
      "source": [
        "Normalize data"
      ]
    },
    {
      "cell_type": "code",
      "metadata": {
        "colab": {
          "base_uri": "https://localhost:8080/"
        },
        "id": "8QLWTHspvMS8",
        "outputId": "f36c2a6b-ea09-4adb-d925-7eeb776a47c5"
      },
      "source": [
        "X = (X - X.mean()) / (X.max() - X.min())\r\n",
        "X"
      ],
      "execution_count": 1108,
      "outputs": [
        {
          "output_type": "execute_result",
          "data": {
            "text/plain": [
              "array([[-0.5       ],\n",
              "       [-0.49994532],\n",
              "       [-0.49989063],\n",
              "       ...,\n",
              "       [ 0.49989063],\n",
              "       [ 0.49994532],\n",
              "       [ 0.5       ]])"
            ]
          },
          "metadata": {
            "tags": []
          },
          "execution_count": 1108
        }
      ]
    },
    {
      "cell_type": "code",
      "metadata": {
        "colab": {
          "base_uri": "https://localhost:8080/"
        },
        "id": "GsXfN68FvasD",
        "outputId": "053b48c9-19f2-47a4-ba7c-81f81443786a"
      },
      "source": [
        "X_test = (X_test - X_test.mean()) / (X_test.max() - X_test.min())\r\n",
        "X_test"
      ],
      "execution_count": 1109,
      "outputs": [
        {
          "output_type": "execute_result",
          "data": {
            "text/plain": [
              "array([[-0.5       ],\n",
              "       [-0.49980434],\n",
              "       [-0.49960869],\n",
              "       ...,\n",
              "       [ 0.49960869],\n",
              "       [ 0.49980434],\n",
              "       [ 0.5       ]])"
            ]
          },
          "metadata": {
            "tags": []
          },
          "execution_count": 1109
        }
      ]
    },
    {
      "cell_type": "markdown",
      "metadata": {
        "id": "o3fA10vSwYny"
      },
      "source": [
        "Split X for training and validation"
      ]
    },
    {
      "cell_type": "code",
      "metadata": {
        "colab": {
          "base_uri": "https://localhost:8080/"
        },
        "id": "nIXMH2acwjVe",
        "outputId": "5d0916c6-d6f8-4a36-cc7d-9fa6aa0ca338"
      },
      "source": [
        "# split into train and test sets\r\n",
        "train_size = int(len(X) * 0.90)\r\n",
        "X_train, X_val = X[:train_size], X[train_size:]\r\n",
        "y_train, y_val = y[:train_size], y[train_size:]\r\n",
        "X_train.shape, y_train.shape, X_val.shape, y_val.shape, X_test.shape"
      ],
      "execution_count": 1110,
      "outputs": [
        {
          "output_type": "execute_result",
          "data": {
            "text/plain": [
              "((16459, 1), (16459,), (1829, 1), (1829,), (5112, 1))"
            ]
          },
          "metadata": {
            "tags": []
          },
          "execution_count": 1110
        }
      ]
    },
    {
      "cell_type": "markdown",
      "metadata": {
        "id": "D9ay5j2Gwv5T"
      },
      "source": [
        "Reshape"
      ]
    },
    {
      "cell_type": "markdown",
      "metadata": {
        "id": "mfqGCFnTxN6a"
      },
      "source": [
        "Define model"
      ]
    },
    {
      "cell_type": "code",
      "metadata": {
        "colab": {
          "base_uri": "https://localhost:8080/"
        },
        "id": "LYS1RXjMxQQG",
        "outputId": "eeb5e643-cd37-4394-a0da-5e96170973df"
      },
      "source": [
        "from sklearn.neural_network import MLPRegressor\r\n",
        "\r\n",
        "model = MLPRegressor(hidden_layer_sizes=(1000,), random_state=1, solver='adam', max_iter=1000, verbose=True).fit(X_train, y_train)\r\n",
        "y_pred = model.predict(X_val)\r\n",
        "y_pred"
      ],
      "execution_count": 1111,
      "outputs": [
        {
          "output_type": "stream",
          "text": [
            "Iteration 1, loss = 12417.32111308\n",
            "Iteration 2, loss = 10990.15201007\n",
            "Iteration 3, loss = 8432.38004586\n",
            "Iteration 4, loss = 5958.50721468\n",
            "Iteration 5, loss = 4502.82701919\n",
            "Iteration 6, loss = 3751.17468849\n",
            "Iteration 7, loss = 3248.10743059\n",
            "Iteration 8, loss = 2906.63627835\n",
            "Iteration 9, loss = 2709.47773473\n",
            "Iteration 10, loss = 2616.49720751\n",
            "Iteration 11, loss = 2579.36936635\n",
            "Iteration 12, loss = 2564.47645453\n",
            "Iteration 13, loss = 2556.13594395\n",
            "Iteration 14, loss = 2548.46492896\n",
            "Iteration 15, loss = 2538.44330493\n",
            "Iteration 16, loss = 2526.41267656\n",
            "Iteration 17, loss = 2512.86997720\n",
            "Iteration 18, loss = 2498.58187442\n",
            "Iteration 19, loss = 2485.67868197\n",
            "Iteration 20, loss = 2473.07803440\n",
            "Iteration 21, loss = 2461.52015992\n",
            "Iteration 22, loss = 2451.60975553\n",
            "Iteration 23, loss = 2443.09703594\n",
            "Iteration 24, loss = 2436.37005762\n",
            "Iteration 25, loss = 2428.75073349\n",
            "Iteration 26, loss = 2422.45141978\n",
            "Iteration 27, loss = 2416.60493109\n",
            "Iteration 28, loss = 2411.11894722\n",
            "Iteration 29, loss = 2405.45269695\n",
            "Iteration 30, loss = 2400.35116057\n",
            "Iteration 31, loss = 2394.76707524\n",
            "Iteration 32, loss = 2390.44663583\n",
            "Iteration 33, loss = 2385.66291975\n",
            "Iteration 34, loss = 2380.90019504\n",
            "Iteration 35, loss = 2375.16166737\n",
            "Iteration 36, loss = 2371.55716825\n",
            "Iteration 37, loss = 2366.34453163\n",
            "Iteration 38, loss = 2362.43668229\n",
            "Iteration 39, loss = 2358.43652645\n",
            "Iteration 40, loss = 2353.56825989\n",
            "Iteration 41, loss = 2350.16205854\n",
            "Iteration 42, loss = 2345.96841083\n",
            "Iteration 43, loss = 2343.51112500\n",
            "Iteration 44, loss = 2339.84904665\n",
            "Iteration 45, loss = 2337.48412998\n",
            "Iteration 46, loss = 2334.34439727\n",
            "Iteration 47, loss = 2331.97871694\n",
            "Iteration 48, loss = 2329.32793079\n",
            "Iteration 49, loss = 2326.84488080\n",
            "Iteration 50, loss = 2325.79349078\n",
            "Iteration 51, loss = 2323.25605199\n",
            "Iteration 52, loss = 2321.27463056\n",
            "Iteration 53, loss = 2321.14408759\n",
            "Iteration 54, loss = 2319.14065665\n",
            "Iteration 55, loss = 2317.03842947\n",
            "Iteration 56, loss = 2316.34216386\n",
            "Iteration 57, loss = 2315.32759254\n",
            "Iteration 58, loss = 2314.25361039\n",
            "Iteration 59, loss = 2313.22654492\n",
            "Iteration 60, loss = 2312.52851681\n",
            "Iteration 61, loss = 2311.95420893\n",
            "Iteration 62, loss = 2310.72768897\n",
            "Iteration 63, loss = 2310.31677443\n",
            "Iteration 64, loss = 2310.62848981\n",
            "Iteration 65, loss = 2309.97251826\n",
            "Iteration 66, loss = 2308.73351036\n",
            "Iteration 67, loss = 2309.42665481\n",
            "Iteration 68, loss = 2308.00554614\n",
            "Iteration 69, loss = 2307.00836442\n",
            "Iteration 70, loss = 2306.56704201\n",
            "Iteration 71, loss = 2306.27208044\n",
            "Iteration 72, loss = 2305.39743378\n",
            "Iteration 73, loss = 2304.87418790\n",
            "Iteration 74, loss = 2304.90137251\n",
            "Iteration 75, loss = 2304.85952010\n",
            "Iteration 76, loss = 2303.85220163\n",
            "Iteration 77, loss = 2304.68441156\n",
            "Iteration 78, loss = 2303.26724616\n",
            "Iteration 79, loss = 2303.39502164\n",
            "Iteration 80, loss = 2302.61601320\n",
            "Iteration 81, loss = 2304.18114430\n",
            "Iteration 82, loss = 2302.69230704\n",
            "Iteration 83, loss = 2302.07670064\n",
            "Iteration 84, loss = 2303.37664350\n",
            "Iteration 85, loss = 2302.34256367\n",
            "Iteration 86, loss = 2302.44625846\n",
            "Iteration 87, loss = 2301.45349753\n",
            "Iteration 88, loss = 2302.21240921\n",
            "Iteration 89, loss = 2301.69900880\n",
            "Iteration 90, loss = 2300.96292882\n",
            "Iteration 91, loss = 2301.01032095\n",
            "Iteration 92, loss = 2301.11816845\n",
            "Iteration 93, loss = 2300.82329980\n",
            "Iteration 94, loss = 2300.46452065\n",
            "Iteration 95, loss = 2300.77085135\n",
            "Iteration 96, loss = 2301.24856559\n",
            "Iteration 97, loss = 2300.47387973\n",
            "Iteration 98, loss = 2299.54383546\n",
            "Iteration 99, loss = 2299.68860136\n",
            "Iteration 100, loss = 2299.00666784\n",
            "Iteration 101, loss = 2299.40689263\n",
            "Iteration 102, loss = 2299.23619484\n",
            "Iteration 103, loss = 2298.79837410\n",
            "Iteration 104, loss = 2299.20001951\n",
            "Iteration 105, loss = 2298.08844052\n",
            "Iteration 106, loss = 2299.12767888\n",
            "Iteration 107, loss = 2298.59488932\n",
            "Iteration 108, loss = 2298.70007528\n",
            "Iteration 109, loss = 2298.48984528\n",
            "Iteration 110, loss = 2298.01971882\n",
            "Iteration 111, loss = 2298.10264801\n",
            "Iteration 112, loss = 2297.91986723\n",
            "Iteration 113, loss = 2297.66762006\n",
            "Iteration 114, loss = 2297.72406415\n",
            "Iteration 115, loss = 2297.24454994\n",
            "Iteration 116, loss = 2297.09400683\n",
            "Iteration 117, loss = 2296.69062669\n",
            "Iteration 118, loss = 2296.99780742\n",
            "Iteration 119, loss = 2296.13049786\n",
            "Iteration 120, loss = 2296.22961448\n",
            "Iteration 121, loss = 2295.57336174\n",
            "Iteration 122, loss = 2295.00271785\n",
            "Iteration 123, loss = 2294.68946496\n",
            "Iteration 124, loss = 2294.70319232\n",
            "Iteration 125, loss = 2293.88503981\n",
            "Iteration 126, loss = 2292.71094387\n",
            "Iteration 127, loss = 2291.88416071\n",
            "Iteration 128, loss = 2290.89052223\n",
            "Iteration 129, loss = 2289.14420382\n",
            "Iteration 130, loss = 2289.05508187\n",
            "Iteration 131, loss = 2287.75464628\n",
            "Iteration 132, loss = 2287.27243657\n",
            "Iteration 133, loss = 2285.38239767\n",
            "Iteration 134, loss = 2285.90592031\n",
            "Iteration 135, loss = 2282.91927231\n",
            "Iteration 136, loss = 2282.78286036\n",
            "Iteration 137, loss = 2282.07873422\n",
            "Iteration 138, loss = 2280.75583054\n",
            "Iteration 139, loss = 2281.04825622\n",
            "Iteration 140, loss = 2279.38147717\n",
            "Iteration 141, loss = 2279.12367344\n",
            "Iteration 142, loss = 2279.16894409\n",
            "Iteration 143, loss = 2279.19636629\n",
            "Iteration 144, loss = 2276.63291037\n",
            "Iteration 145, loss = 2276.26697524\n",
            "Iteration 146, loss = 2274.27865414\n",
            "Iteration 147, loss = 2275.65547999\n",
            "Iteration 148, loss = 2275.10882772\n",
            "Iteration 149, loss = 2274.94748061\n",
            "Iteration 150, loss = 2274.57485342\n",
            "Iteration 151, loss = 2274.22368625\n",
            "Iteration 152, loss = 2273.15094102\n",
            "Iteration 153, loss = 2273.46364242\n",
            "Iteration 154, loss = 2272.34474646\n",
            "Iteration 155, loss = 2274.65669554\n",
            "Iteration 156, loss = 2271.48506255\n",
            "Iteration 157, loss = 2271.33066800\n",
            "Iteration 158, loss = 2271.06479792\n",
            "Iteration 159, loss = 2270.50065150\n",
            "Iteration 160, loss = 2270.66678748\n",
            "Iteration 161, loss = 2269.77366818\n",
            "Iteration 162, loss = 2269.36227422\n",
            "Iteration 163, loss = 2269.32781049\n",
            "Iteration 164, loss = 2269.19612403\n",
            "Iteration 165, loss = 2268.71376903\n",
            "Iteration 166, loss = 2268.23799472\n",
            "Iteration 167, loss = 2268.38287683\n",
            "Iteration 168, loss = 2268.64839943\n",
            "Iteration 169, loss = 2267.17036347\n",
            "Iteration 170, loss = 2266.67429125\n",
            "Iteration 171, loss = 2266.06164636\n",
            "Iteration 172, loss = 2265.31152574\n",
            "Iteration 173, loss = 2265.92524991\n",
            "Iteration 174, loss = 2265.12257453\n",
            "Iteration 175, loss = 2265.86010374\n",
            "Iteration 176, loss = 2264.29219768\n",
            "Iteration 177, loss = 2264.05134656\n",
            "Iteration 178, loss = 2263.25508686\n",
            "Iteration 179, loss = 2263.02658307\n",
            "Iteration 180, loss = 2263.39664060\n",
            "Iteration 181, loss = 2262.69770929\n",
            "Iteration 182, loss = 2262.88040136\n",
            "Iteration 183, loss = 2262.03041306\n",
            "Iteration 184, loss = 2261.58897797\n",
            "Iteration 185, loss = 2260.86866192\n",
            "Iteration 186, loss = 2260.73071811\n",
            "Iteration 187, loss = 2260.54338481\n",
            "Iteration 188, loss = 2261.45190434\n",
            "Iteration 189, loss = 2259.92441193\n",
            "Iteration 190, loss = 2259.01021284\n",
            "Iteration 191, loss = 2258.66853764\n",
            "Iteration 192, loss = 2258.86741921\n",
            "Iteration 193, loss = 2258.31289296\n",
            "Iteration 194, loss = 2257.87841158\n",
            "Iteration 195, loss = 2257.77499845\n",
            "Iteration 196, loss = 2256.45236279\n",
            "Iteration 197, loss = 2256.84190433\n",
            "Iteration 198, loss = 2255.48054904\n",
            "Iteration 199, loss = 2254.82255576\n",
            "Iteration 200, loss = 2255.05887335\n",
            "Iteration 201, loss = 2255.26348666\n",
            "Iteration 202, loss = 2254.25374677\n",
            "Iteration 203, loss = 2253.94746746\n",
            "Iteration 204, loss = 2254.00964487\n",
            "Iteration 205, loss = 2254.67448120\n",
            "Iteration 206, loss = 2252.40957307\n",
            "Iteration 207, loss = 2251.70128948\n",
            "Iteration 208, loss = 2252.76657512\n",
            "Iteration 209, loss = 2251.14870175\n",
            "Iteration 210, loss = 2251.46633063\n",
            "Iteration 211, loss = 2250.78164512\n",
            "Iteration 212, loss = 2249.15792131\n",
            "Iteration 213, loss = 2251.87461468\n",
            "Iteration 214, loss = 2249.46833826\n",
            "Iteration 215, loss = 2249.20378091\n",
            "Iteration 216, loss = 2248.46292707\n",
            "Iteration 217, loss = 2248.42604447\n",
            "Iteration 218, loss = 2247.83285066\n",
            "Iteration 219, loss = 2247.92901574\n",
            "Iteration 220, loss = 2246.93121499\n",
            "Iteration 221, loss = 2246.16286672\n",
            "Iteration 222, loss = 2246.54966692\n",
            "Iteration 223, loss = 2246.20838962\n",
            "Iteration 224, loss = 2245.56522684\n",
            "Iteration 225, loss = 2245.24473839\n",
            "Iteration 226, loss = 2245.36003492\n",
            "Iteration 227, loss = 2244.55128502\n",
            "Iteration 228, loss = 2244.63265093\n",
            "Iteration 229, loss = 2244.64111745\n",
            "Iteration 230, loss = 2244.30809144\n",
            "Iteration 231, loss = 2244.09676755\n",
            "Iteration 232, loss = 2242.57745966\n",
            "Iteration 233, loss = 2242.97043783\n",
            "Iteration 234, loss = 2242.56128402\n",
            "Iteration 235, loss = 2242.19390828\n",
            "Iteration 236, loss = 2241.11167674\n",
            "Iteration 237, loss = 2241.83172020\n",
            "Iteration 238, loss = 2240.88863115\n",
            "Iteration 239, loss = 2240.09999031\n",
            "Iteration 240, loss = 2240.31196824\n",
            "Iteration 241, loss = 2239.54870852\n",
            "Iteration 242, loss = 2239.98130583\n",
            "Iteration 243, loss = 2239.23837974\n",
            "Iteration 244, loss = 2238.67035537\n",
            "Iteration 245, loss = 2237.94994157\n",
            "Iteration 246, loss = 2238.50933449\n",
            "Iteration 247, loss = 2237.87404231\n",
            "Iteration 248, loss = 2237.70128370\n",
            "Iteration 249, loss = 2237.50487455\n",
            "Iteration 250, loss = 2236.44811835\n",
            "Iteration 251, loss = 2236.23982588\n",
            "Iteration 252, loss = 2236.48777023\n",
            "Iteration 253, loss = 2236.00504065\n",
            "Iteration 254, loss = 2235.74531872\n",
            "Iteration 255, loss = 2234.95622420\n",
            "Iteration 256, loss = 2235.05748253\n",
            "Iteration 257, loss = 2234.27395555\n",
            "Iteration 258, loss = 2233.67110872\n",
            "Iteration 259, loss = 2233.43643809\n",
            "Iteration 260, loss = 2233.52017448\n",
            "Iteration 261, loss = 2233.71727495\n",
            "Iteration 262, loss = 2233.83540234\n",
            "Iteration 263, loss = 2231.95004263\n",
            "Iteration 264, loss = 2231.89265108\n",
            "Iteration 265, loss = 2232.08008056\n",
            "Iteration 266, loss = 2233.31503771\n",
            "Iteration 267, loss = 2230.99065454\n",
            "Iteration 268, loss = 2231.56702684\n",
            "Iteration 269, loss = 2230.83538875\n",
            "Iteration 270, loss = 2230.16488268\n",
            "Iteration 271, loss = 2230.04090128\n",
            "Iteration 272, loss = 2230.26738609\n",
            "Iteration 273, loss = 2230.31651679\n",
            "Iteration 274, loss = 2229.34628983\n",
            "Iteration 275, loss = 2229.71159830\n",
            "Iteration 276, loss = 2229.92147448\n",
            "Iteration 277, loss = 2228.85125327\n",
            "Iteration 278, loss = 2228.43806648\n",
            "Iteration 279, loss = 2228.59410538\n",
            "Iteration 280, loss = 2227.53446108\n",
            "Iteration 281, loss = 2227.32042617\n",
            "Iteration 282, loss = 2227.50563359\n",
            "Iteration 283, loss = 2226.77958688\n",
            "Iteration 284, loss = 2226.60375986\n",
            "Iteration 285, loss = 2226.24963369\n",
            "Iteration 286, loss = 2226.69953784\n",
            "Iteration 287, loss = 2225.75147086\n",
            "Iteration 288, loss = 2227.23146901\n",
            "Iteration 289, loss = 2226.21676128\n",
            "Iteration 290, loss = 2224.70958436\n",
            "Iteration 291, loss = 2224.91108936\n",
            "Iteration 292, loss = 2225.71622915\n",
            "Iteration 293, loss = 2224.11002012\n",
            "Iteration 294, loss = 2225.38695899\n",
            "Iteration 295, loss = 2224.48384357\n",
            "Iteration 296, loss = 2224.09888971\n",
            "Iteration 297, loss = 2224.39458004\n",
            "Iteration 298, loss = 2223.43171201\n",
            "Iteration 299, loss = 2223.52201704\n",
            "Iteration 300, loss = 2223.41436381\n",
            "Iteration 301, loss = 2222.67084875\n",
            "Iteration 302, loss = 2223.10274274\n",
            "Iteration 303, loss = 2223.29329927\n",
            "Iteration 304, loss = 2224.23300285\n",
            "Iteration 305, loss = 2222.44491605\n",
            "Iteration 306, loss = 2221.81485920\n",
            "Iteration 307, loss = 2222.31384018\n",
            "Iteration 308, loss = 2222.01402364\n",
            "Iteration 309, loss = 2221.46245642\n",
            "Iteration 310, loss = 2222.10573508\n",
            "Iteration 311, loss = 2221.12656654\n",
            "Iteration 312, loss = 2221.50925144\n",
            "Iteration 313, loss = 2222.19909493\n",
            "Iteration 314, loss = 2221.33627877\n",
            "Iteration 315, loss = 2220.43309661\n",
            "Iteration 316, loss = 2220.84170731\n",
            "Iteration 317, loss = 2220.51939287\n",
            "Iteration 318, loss = 2220.53074297\n",
            "Iteration 319, loss = 2219.80701827\n",
            "Iteration 320, loss = 2220.15158062\n",
            "Iteration 321, loss = 2219.79052941\n",
            "Iteration 322, loss = 2219.39289929\n",
            "Iteration 323, loss = 2220.22431920\n",
            "Iteration 324, loss = 2219.81548288\n",
            "Iteration 325, loss = 2219.39547217\n",
            "Iteration 326, loss = 2220.06535975\n",
            "Iteration 327, loss = 2218.98014999\n",
            "Iteration 328, loss = 2218.54213360\n",
            "Iteration 329, loss = 2218.88304854\n",
            "Iteration 330, loss = 2218.13044756\n",
            "Iteration 331, loss = 2220.37347925\n",
            "Iteration 332, loss = 2218.80465383\n",
            "Iteration 333, loss = 2218.11886634\n",
            "Iteration 334, loss = 2217.88109700\n",
            "Iteration 335, loss = 2217.87967647\n",
            "Iteration 336, loss = 2217.51176116\n",
            "Iteration 337, loss = 2217.82430429\n",
            "Iteration 338, loss = 2218.20152367\n",
            "Iteration 339, loss = 2217.92132871\n",
            "Iteration 340, loss = 2217.65862699\n",
            "Iteration 341, loss = 2217.38338386\n",
            "Iteration 342, loss = 2217.84435490\n",
            "Iteration 343, loss = 2217.61840845\n",
            "Iteration 344, loss = 2217.18923047\n",
            "Iteration 345, loss = 2217.04009561\n",
            "Iteration 346, loss = 2216.73643321\n",
            "Iteration 347, loss = 2217.97095738\n",
            "Iteration 348, loss = 2218.46934599\n",
            "Iteration 349, loss = 2217.31999530\n",
            "Iteration 350, loss = 2216.61004856\n",
            "Iteration 351, loss = 2216.47987017\n",
            "Iteration 352, loss = 2216.84658599\n",
            "Iteration 353, loss = 2215.94195300\n",
            "Iteration 354, loss = 2216.26043639\n",
            "Iteration 355, loss = 2216.80991130\n",
            "Iteration 356, loss = 2215.91445163\n",
            "Iteration 357, loss = 2216.34380088\n",
            "Iteration 358, loss = 2216.09816966\n",
            "Iteration 359, loss = 2216.05024917\n",
            "Iteration 360, loss = 2216.39902524\n",
            "Iteration 361, loss = 2215.93378270\n",
            "Iteration 362, loss = 2216.61878470\n",
            "Iteration 363, loss = 2216.87316837\n",
            "Iteration 364, loss = 2216.14120033\n",
            "Iteration 365, loss = 2216.12551639\n",
            "Iteration 366, loss = 2216.13418500\n",
            "Iteration 367, loss = 2215.64283121\n",
            "Iteration 368, loss = 2215.40403085\n",
            "Iteration 369, loss = 2215.14035772\n",
            "Iteration 370, loss = 2215.08956573\n",
            "Iteration 371, loss = 2215.12897290\n",
            "Iteration 372, loss = 2218.00182679\n",
            "Iteration 373, loss = 2216.11414443\n",
            "Iteration 374, loss = 2215.72256586\n",
            "Iteration 375, loss = 2215.64974876\n",
            "Iteration 376, loss = 2215.49781360\n",
            "Iteration 377, loss = 2216.05032387\n",
            "Iteration 378, loss = 2214.95173769\n",
            "Iteration 379, loss = 2214.75156295\n",
            "Iteration 380, loss = 2214.56715226\n",
            "Iteration 381, loss = 2214.98645910\n",
            "Iteration 382, loss = 2215.98266126\n",
            "Iteration 383, loss = 2215.46465861\n",
            "Iteration 384, loss = 2215.13661005\n",
            "Iteration 385, loss = 2214.13390746\n",
            "Iteration 386, loss = 2214.78495663\n",
            "Iteration 387, loss = 2214.52120037\n",
            "Iteration 388, loss = 2215.69036553\n",
            "Iteration 389, loss = 2213.92655655\n",
            "Iteration 390, loss = 2215.91593726\n",
            "Iteration 391, loss = 2214.60526198\n",
            "Iteration 392, loss = 2215.72590204\n",
            "Iteration 393, loss = 2214.61190775\n",
            "Iteration 394, loss = 2214.06119488\n",
            "Iteration 395, loss = 2214.39185696\n",
            "Iteration 396, loss = 2214.21465593\n",
            "Iteration 397, loss = 2213.93199534\n",
            "Iteration 398, loss = 2214.41632840\n",
            "Iteration 399, loss = 2214.07900874\n",
            "Iteration 400, loss = 2213.56709727\n",
            "Iteration 401, loss = 2214.66174164\n",
            "Iteration 402, loss = 2213.82559923\n",
            "Iteration 403, loss = 2214.49917409\n",
            "Iteration 404, loss = 2213.41072817\n",
            "Iteration 405, loss = 2214.53474753\n",
            "Iteration 406, loss = 2215.31479983\n",
            "Iteration 407, loss = 2214.82886388\n",
            "Iteration 408, loss = 2213.66442609\n",
            "Iteration 409, loss = 2214.62034392\n",
            "Iteration 410, loss = 2213.60338816\n",
            "Iteration 411, loss = 2213.48297258\n",
            "Iteration 412, loss = 2213.23126438\n",
            "Iteration 413, loss = 2213.28475132\n",
            "Iteration 414, loss = 2213.72826286\n",
            "Iteration 415, loss = 2213.22422379\n",
            "Iteration 416, loss = 2214.37960751\n",
            "Iteration 417, loss = 2213.12672080\n",
            "Iteration 418, loss = 2215.31338330\n",
            "Iteration 419, loss = 2213.56859214\n",
            "Iteration 420, loss = 2214.23489663\n",
            "Iteration 421, loss = 2214.26859331\n",
            "Iteration 422, loss = 2213.40285122\n",
            "Iteration 423, loss = 2214.50905266\n",
            "Iteration 424, loss = 2213.56735263\n",
            "Iteration 425, loss = 2213.91209824\n",
            "Iteration 426, loss = 2213.95607854\n",
            "Iteration 427, loss = 2213.70341834\n",
            "Iteration 428, loss = 2213.67021039\n",
            "Training loss did not improve more than tol=0.000100 for 10 consecutive epochs. Stopping.\n"
          ],
          "name": "stdout"
        },
        {
          "output_type": "execute_result",
          "data": {
            "text/plain": [
              "array([344.02126897, 344.0728171 , 344.12436522, ..., 438.1481491 ,\n",
              "       438.19969723, 438.25124536])"
            ]
          },
          "metadata": {
            "tags": []
          },
          "execution_count": 1111
        }
      ]
    },
    {
      "cell_type": "code",
      "metadata": {
        "id": "0VGcwQjpVsZ8",
        "colab": {
          "base_uri": "https://localhost:8080/"
        },
        "outputId": "ca97c711-0d04-4aa9-c42a-3b29adbd94c5"
      },
      "source": [
        "# calculating RMSE to check the accuracy of our model on validation data set.\n",
        "from sklearn.metrics import mean_squared_error \n",
        "from math import sqrt \n",
        "rms = sqrt(mean_squared_error(y_val, y_pred)) \n",
        "print(rms)"
      ],
      "execution_count": 1112,
      "outputs": [
        {
          "output_type": "stream",
          "text": [
            "188.7898992943834\n"
          ],
          "name": "stdout"
        }
      ]
    },
    {
      "cell_type": "code",
      "metadata": {
        "colab": {
          "base_uri": "https://localhost:8080/",
          "height": 399
        },
        "id": "lOp01esU0mYE",
        "outputId": "98500dc3-7bec-4c68-c06b-5b2e308ee956"
      },
      "source": [
        "df_val = pd.DataFrame({'Actual': y_val, 'Predicted': y_pred})\r\n",
        "df_val"
      ],
      "execution_count": 1113,
      "outputs": [
        {
          "output_type": "execute_result",
          "data": {
            "text/html": [
              "<div>\n",
              "<style scoped>\n",
              "    .dataframe tbody tr th:only-of-type {\n",
              "        vertical-align: middle;\n",
              "    }\n",
              "\n",
              "    .dataframe tbody tr th {\n",
              "        vertical-align: top;\n",
              "    }\n",
              "\n",
              "    .dataframe thead th {\n",
              "        text-align: right;\n",
              "    }\n",
              "</style>\n",
              "<table border=\"1\" class=\"dataframe\">\n",
              "  <thead>\n",
              "    <tr style=\"text-align: right;\">\n",
              "      <th></th>\n",
              "      <th>Actual</th>\n",
              "      <th>Predicted</th>\n",
              "    </tr>\n",
              "  </thead>\n",
              "  <tbody>\n",
              "    <tr>\n",
              "      <th>16459</th>\n",
              "      <td>420</td>\n",
              "      <td>344.021269</td>\n",
              "    </tr>\n",
              "    <tr>\n",
              "      <th>16460</th>\n",
              "      <td>386</td>\n",
              "      <td>344.072817</td>\n",
              "    </tr>\n",
              "    <tr>\n",
              "      <th>16461</th>\n",
              "      <td>348</td>\n",
              "      <td>344.124365</td>\n",
              "    </tr>\n",
              "    <tr>\n",
              "      <th>16462</th>\n",
              "      <td>378</td>\n",
              "      <td>344.175913</td>\n",
              "    </tr>\n",
              "    <tr>\n",
              "      <th>16463</th>\n",
              "      <td>380</td>\n",
              "      <td>344.227461</td>\n",
              "    </tr>\n",
              "    <tr>\n",
              "      <th>...</th>\n",
              "      <td>...</td>\n",
              "      <td>...</td>\n",
              "    </tr>\n",
              "    <tr>\n",
              "      <th>18283</th>\n",
              "      <td>868</td>\n",
              "      <td>438.045053</td>\n",
              "    </tr>\n",
              "    <tr>\n",
              "      <th>18284</th>\n",
              "      <td>732</td>\n",
              "      <td>438.096601</td>\n",
              "    </tr>\n",
              "    <tr>\n",
              "      <th>18285</th>\n",
              "      <td>702</td>\n",
              "      <td>438.148149</td>\n",
              "    </tr>\n",
              "    <tr>\n",
              "      <th>18286</th>\n",
              "      <td>580</td>\n",
              "      <td>438.199697</td>\n",
              "    </tr>\n",
              "    <tr>\n",
              "      <th>18287</th>\n",
              "      <td>534</td>\n",
              "      <td>438.251245</td>\n",
              "    </tr>\n",
              "  </tbody>\n",
              "</table>\n",
              "<p>1829 rows × 2 columns</p>\n",
              "</div>"
            ],
            "text/plain": [
              "       Actual   Predicted\n",
              "16459     420  344.021269\n",
              "16460     386  344.072817\n",
              "16461     348  344.124365\n",
              "16462     378  344.175913\n",
              "16463     380  344.227461\n",
              "...       ...         ...\n",
              "18283     868  438.045053\n",
              "18284     732  438.096601\n",
              "18285     702  438.148149\n",
              "18286     580  438.199697\n",
              "18287     534  438.251245\n",
              "\n",
              "[1829 rows x 2 columns]"
            ]
          },
          "metadata": {
            "tags": []
          },
          "execution_count": 1113
        }
      ]
    },
    {
      "cell_type": "markdown",
      "metadata": {
        "id": "MT2j3Wdh0vIT"
      },
      "source": [
        "Graphics"
      ]
    },
    {
      "cell_type": "code",
      "metadata": {
        "colab": {
          "base_uri": "https://localhost:8080/",
          "height": 265
        },
        "id": "hyXJ6IeL0ymv",
        "outputId": "d22fd66f-6557-49e1-a714-34be3d687b70"
      },
      "source": [
        "# plot predictions and expected results\r\n",
        "plt.plot(y_train)\r\n",
        "plt.plot([None for i in y_train] + [x for x in y_val])\r\n",
        "plt.plot([None for i in y_train] + [x for x in y_pred])\r\n",
        "plt.show()"
      ],
      "execution_count": 1114,
      "outputs": [
        {
          "output_type": "display_data",
          "data": {
            "image/png": "[encoded data removed]",
            "text/plain": [
              "<Figure size 432x288 with 1 Axes>"
            ]
          },
          "metadata": {
            "tags": [],
            "needs_background": "light"
          }
        }
      ]
    },
    {
      "cell_type": "markdown",
      "metadata": {
        "id": "sUNrKLuf0H53"
      },
      "source": [
        "Predict on test dataset"
      ]
    },
    {
      "cell_type": "code",
      "metadata": {
        "colab": {
          "base_uri": "https://localhost:8080/"
        },
        "id": "VGeunkNE0MIF",
        "outputId": "fc4dc2be-1f93-44ff-e133-d146161cb42e"
      },
      "source": [
        "prediction = model.predict(X_test)\r\n",
        "prediction"
      ],
      "execution_count": 1115,
      "outputs": [
        {
          "output_type": "execute_result",
          "data": {
            "text/plain": [
              "array([  5.22116283,   5.23581455,   5.25046627, ..., 437.88237015,\n",
              "       438.06680775, 438.25124536])"
            ]
          },
          "metadata": {
            "tags": []
          },
          "execution_count": 1115
        }
      ]
    },
    {
      "cell_type": "markdown",
      "metadata": {
        "id": "Cp3Fu_8D0-NH"
      },
      "source": [
        "Prepare submission"
      ]
    },
    {
      "cell_type": "code",
      "metadata": {
        "colab": {
          "base_uri": "https://localhost:8080/",
          "height": 399
        },
        "id": "Sb1ZTe7z1BOb",
        "outputId": "7ca0bb2c-0aa5-4af2-9447-8cc5b0f06bdc"
      },
      "source": [
        "final_result = pd.DataFrame({'ID': test.ID, 'Count': prediction})\r\n",
        "final_result"
      ],
      "execution_count": 1116,
      "outputs": [
        {
          "output_type": "execute_result",
          "data": {
            "text/html": [
              "<div>\n",
              "<style scoped>\n",
              "    .dataframe tbody tr th:only-of-type {\n",
              "        vertical-align: middle;\n",
              "    }\n",
              "\n",
              "    .dataframe tbody tr th {\n",
              "        vertical-align: top;\n",
              "    }\n",
              "\n",
              "    .dataframe thead th {\n",
              "        text-align: right;\n",
              "    }\n",
              "</style>\n",
              "<table border=\"1\" class=\"dataframe\">\n",
              "  <thead>\n",
              "    <tr style=\"text-align: right;\">\n",
              "      <th></th>\n",
              "      <th>ID</th>\n",
              "      <th>Count</th>\n",
              "    </tr>\n",
              "  </thead>\n",
              "  <tbody>\n",
              "    <tr>\n",
              "      <th>0</th>\n",
              "      <td>18288</td>\n",
              "      <td>5.221163</td>\n",
              "    </tr>\n",
              "    <tr>\n",
              "      <th>1</th>\n",
              "      <td>18289</td>\n",
              "      <td>5.235815</td>\n",
              "    </tr>\n",
              "    <tr>\n",
              "      <th>2</th>\n",
              "      <td>18290</td>\n",
              "      <td>5.250466</td>\n",
              "    </tr>\n",
              "    <tr>\n",
              "      <th>3</th>\n",
              "      <td>18291</td>\n",
              "      <td>5.265118</td>\n",
              "    </tr>\n",
              "    <tr>\n",
              "      <th>4</th>\n",
              "      <td>18292</td>\n",
              "      <td>5.279770</td>\n",
              "    </tr>\n",
              "    <tr>\n",
              "      <th>...</th>\n",
              "      <td>...</td>\n",
              "      <td>...</td>\n",
              "    </tr>\n",
              "    <tr>\n",
              "      <th>5107</th>\n",
              "      <td>23395</td>\n",
              "      <td>437.513495</td>\n",
              "    </tr>\n",
              "    <tr>\n",
              "      <th>5108</th>\n",
              "      <td>23396</td>\n",
              "      <td>437.697933</td>\n",
              "    </tr>\n",
              "    <tr>\n",
              "      <th>5109</th>\n",
              "      <td>23397</td>\n",
              "      <td>437.882370</td>\n",
              "    </tr>\n",
              "    <tr>\n",
              "      <th>5110</th>\n",
              "      <td>23398</td>\n",
              "      <td>438.066808</td>\n",
              "    </tr>\n",
              "    <tr>\n",
              "      <th>5111</th>\n",
              "      <td>23399</td>\n",
              "      <td>438.251245</td>\n",
              "    </tr>\n",
              "  </tbody>\n",
              "</table>\n",
              "<p>5112 rows × 2 columns</p>\n",
              "</div>"
            ],
            "text/plain": [
              "         ID       Count\n",
              "0     18288    5.221163\n",
              "1     18289    5.235815\n",
              "2     18290    5.250466\n",
              "3     18291    5.265118\n",
              "4     18292    5.279770\n",
              "...     ...         ...\n",
              "5107  23395  437.513495\n",
              "5108  23396  437.697933\n",
              "5109  23397  437.882370\n",
              "5110  23398  438.066808\n",
              "5111  23399  438.251245\n",
              "\n",
              "[5112 rows x 2 columns]"
            ]
          },
          "metadata": {
            "tags": []
          },
          "execution_count": 1116
        }
      ]
    },
    {
      "cell_type": "code",
      "metadata": {
        "id": "TkYaMMenxAbv",
        "colab": {
          "base_uri": "https://localhost:8080/"
        },
        "outputId": "4684c8fb-77b6-4ebd-935e-7bfe93620c40"
      },
      "source": [
        "final_result.to_csv('submission.csv', index=False)\n",
        "print(\"Your submission was successfully saved!\")"
      ],
      "execution_count": 1117,
      "outputs": [
        {
          "output_type": "stream",
          "text": [
            "Your submission was successfully saved!\n"
          ],
          "name": "stdout"
        }
      ]
    },
    {
      "cell_type": "code",
      "metadata": {
        "colab": {
          "base_uri": "https://localhost:8080/",
          "height": 399
        },
        "id": "GxEZa5OB1wuW",
        "outputId": "76a4d011-33b6-4a3f-9347-c521b6c63098"
      },
      "source": [
        "#upload submission\r\n",
        "submission = pd.read_csv(\"submission.csv\")\r\n",
        "submission"
      ],
      "execution_count": 1118,
      "outputs": [
        {
          "output_type": "execute_result",
          "data": {
            "text/html": [
              "<div>\n",
              "<style scoped>\n",
              "    .dataframe tbody tr th:only-of-type {\n",
              "        vertical-align: middle;\n",
              "    }\n",
              "\n",
              "    .dataframe tbody tr th {\n",
              "        vertical-align: top;\n",
              "    }\n",
              "\n",
              "    .dataframe thead th {\n",
              "        text-align: right;\n",
              "    }\n",
              "</style>\n",
              "<table border=\"1\" class=\"dataframe\">\n",
              "  <thead>\n",
              "    <tr style=\"text-align: right;\">\n",
              "      <th></th>\n",
              "      <th>ID</th>\n",
              "      <th>Count</th>\n",
              "    </tr>\n",
              "  </thead>\n",
              "  <tbody>\n",
              "    <tr>\n",
              "      <th>0</th>\n",
              "      <td>18288</td>\n",
              "      <td>5.221163</td>\n",
              "    </tr>\n",
              "    <tr>\n",
              "      <th>1</th>\n",
              "      <td>18289</td>\n",
              "      <td>5.235815</td>\n",
              "    </tr>\n",
              "    <tr>\n",
              "      <th>2</th>\n",
              "      <td>18290</td>\n",
              "      <td>5.250466</td>\n",
              "    </tr>\n",
              "    <tr>\n",
              "      <th>3</th>\n",
              "      <td>18291</td>\n",
              "      <td>5.265118</td>\n",
              "    </tr>\n",
              "    <tr>\n",
              "      <th>4</th>\n",
              "      <td>18292</td>\n",
              "      <td>5.279770</td>\n",
              "    </tr>\n",
              "    <tr>\n",
              "      <th>...</th>\n",
              "      <td>...</td>\n",
              "      <td>...</td>\n",
              "    </tr>\n",
              "    <tr>\n",
              "      <th>5107</th>\n",
              "      <td>23395</td>\n",
              "      <td>437.513495</td>\n",
              "    </tr>\n",
              "    <tr>\n",
              "      <th>5108</th>\n",
              "      <td>23396</td>\n",
              "      <td>437.697933</td>\n",
              "    </tr>\n",
              "    <tr>\n",
              "      <th>5109</th>\n",
              "      <td>23397</td>\n",
              "      <td>437.882370</td>\n",
              "    </tr>\n",
              "    <tr>\n",
              "      <th>5110</th>\n",
              "      <td>23398</td>\n",
              "      <td>438.066808</td>\n",
              "    </tr>\n",
              "    <tr>\n",
              "      <th>5111</th>\n",
              "      <td>23399</td>\n",
              "      <td>438.251245</td>\n",
              "    </tr>\n",
              "  </tbody>\n",
              "</table>\n",
              "<p>5112 rows × 2 columns</p>\n",
              "</div>"
            ],
            "text/plain": [
              "         ID       Count\n",
              "0     18288    5.221163\n",
              "1     18289    5.235815\n",
              "2     18290    5.250466\n",
              "3     18291    5.265118\n",
              "4     18292    5.279770\n",
              "...     ...         ...\n",
              "5107  23395  437.513495\n",
              "5108  23396  437.697933\n",
              "5109  23397  437.882370\n",
              "5110  23398  438.066808\n",
              "5111  23399  438.251245\n",
              "\n",
              "[5112 rows x 2 columns]"
            ]
          },
          "metadata": {
            "tags": []
          },
          "execution_count": 1118
        }
      ]
    }
  ]
}